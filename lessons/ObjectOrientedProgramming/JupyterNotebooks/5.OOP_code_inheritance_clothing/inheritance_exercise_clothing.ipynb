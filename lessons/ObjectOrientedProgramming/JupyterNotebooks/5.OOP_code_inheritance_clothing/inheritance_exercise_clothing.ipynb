{
  "nbformat": 4,
  "nbformat_minor": 0,
  "metadata": {
    "kernelspec": {
      "display_name": "Python 3",
      "language": "python",
      "name": "python3"
    },
    "language_info": {
      "codemirror_mode": {
        "name": "ipython",
        "version": 3
      },
      "file_extension": ".py",
      "mimetype": "text/x-python",
      "name": "python",
      "nbconvert_exporter": "python",
      "pygments_lexer": "ipython3",
      "version": "3.6.3"
    },
    "colab": {
      "name": "inheritance_exercise_clothing.ipynb",
      "provenance": [],
      "include_colab_link": true
    }
  },
  "cells": [
    {
      "cell_type": "markdown",
      "metadata": {
        "id": "view-in-github",
        "colab_type": "text"
      },
      "source": [
        "<a href=\"https://colab.research.google.com/github/callezenwaka/DSND_Term2/blob/master/lessons/ObjectOrientedProgramming/JupyterNotebooks/5.OOP_code_inheritance_clothing/inheritance_exercise_clothing.ipynb\" target=\"_parent\"><img src=\"https://colab.research.google.com/assets/colab-badge.svg\" alt=\"Open In Colab\"/></a>"
      ]
    },
    {
      "cell_type": "markdown",
      "metadata": {
        "id": "5Nag31q3iLaI"
      },
      "source": [
        "# Supporting Materials"
      ]
    },
    {
      "cell_type": "code",
      "metadata": {
        "id": "VwMXJwHniNcS",
        "outputId": "fd3d24ad-919e-48cb-ffdd-96315c7ca875",
        "colab": {
          "base_uri": "https://localhost:8080/"
        }
      },
      "source": [
        "# Install packages\n",
        "!pip install requests\n",
        "!pip install matplotlib"
      ],
      "execution_count": 1,
      "outputs": [
        {
          "output_type": "stream",
          "text": [
            "Requirement already satisfied: requests in /usr/local/lib/python3.7/dist-packages (2.23.0)\n",
            "Requirement already satisfied: chardet<4,>=3.0.2 in /usr/local/lib/python3.7/dist-packages (from requests) (3.0.4)\n",
            "Requirement already satisfied: urllib3!=1.25.0,!=1.25.1,<1.26,>=1.21.1 in /usr/local/lib/python3.7/dist-packages (from requests) (1.24.3)\n",
            "Requirement already satisfied: idna<3,>=2.5 in /usr/local/lib/python3.7/dist-packages (from requests) (2.10)\n",
            "Requirement already satisfied: certifi>=2017.4.17 in /usr/local/lib/python3.7/dist-packages (from requests) (2021.5.30)\n",
            "Requirement already satisfied: matplotlib in /usr/local/lib/python3.7/dist-packages (3.2.2)\n",
            "Requirement already satisfied: numpy>=1.11 in /usr/local/lib/python3.7/dist-packages (from matplotlib) (1.19.5)\n",
            "Requirement already satisfied: cycler>=0.10 in /usr/local/lib/python3.7/dist-packages (from matplotlib) (0.10.0)\n",
            "Requirement already satisfied: pyparsing!=2.0.4,!=2.1.2,!=2.1.6,>=2.0.1 in /usr/local/lib/python3.7/dist-packages (from matplotlib) (2.4.7)\n",
            "Requirement already satisfied: python-dateutil>=2.1 in /usr/local/lib/python3.7/dist-packages (from matplotlib) (2.8.1)\n",
            "Requirement already satisfied: kiwisolver>=1.0.1 in /usr/local/lib/python3.7/dist-packages (from matplotlib) (1.3.1)\n",
            "Requirement already satisfied: six in /usr/local/lib/python3.7/dist-packages (from cycler>=0.10->matplotlib) (1.15.0)\n"
          ],
          "name": "stdout"
        }
      ]
    },
    {
      "cell_type": "code",
      "metadata": {
        "id": "hy8x6PBYiRd7"
      },
      "source": [
        "# Import package\n",
        "import requests"
      ],
      "execution_count": 2,
      "outputs": []
    },
    {
      "cell_type": "code",
      "metadata": {
        "id": "uJF00u7iiUU7"
      },
      "source": [
        "# Download answer.py\n",
        "answer_url = 'https://video.udacity-data.com/topher/2021/April/60784d49_answer/answer.py'\n",
        "r = requests.get(answer_url)\n",
        "\n",
        "# make sure your filename is the same as how you want to import \n",
        "with open('answer.py', 'w') as f:\n",
        "    f.write(r.text)"
      ],
      "execution_count": 3,
      "outputs": []
    },
    {
      "cell_type": "markdown",
      "metadata": {
        "id": "KUp8tH3XWGEW"
      },
      "source": [
        "# Inheritance Exercise Clothing\n",
        "\n",
        "The following code contains a Clothing parent class and two children classes: Shirt and Pants.\n",
        "\n",
        "Your job is to code a class called Blouse. Read through the code and fill out the TODOs. Then check your work with the unit tests at the bottom of the code."
      ]
    },
    {
      "cell_type": "code",
      "metadata": {
        "id": "ogxPmrnVWGEZ"
      },
      "source": [
        "class Clothing:\n",
        "\n",
        "    def __init__(self, color, size, style, price):\n",
        "        self.color = color\n",
        "        self.size = size\n",
        "        self.style = style\n",
        "        self.price = price\n",
        "        \n",
        "    def change_price(self, price):\n",
        "        self.price = price\n",
        "        \n",
        "    def calculate_discount(self, discount):\n",
        "        return self.price * (1 - discount)\n",
        "\n",
        "    def calculate_shipping(self, weight, rate):\n",
        "      return weight * rate\n",
        "        \n",
        "class Shirt(Clothing):\n",
        "    \n",
        "    def __init__(self, color, size, style, price, long_or_short):\n",
        "        \n",
        "        Clothing.__init__(self, color, size, style, price)\n",
        "        self.long_or_short = long_or_short\n",
        "    \n",
        "    def double_price(self):\n",
        "        self.price = 2*self.price\n",
        "    \n",
        "class Pants(Clothing):\n",
        "\n",
        "    def __init__(self, color, size, style, price, waist):\n",
        "        \n",
        "        Clothing.__init__(self, color, size, style, price)\n",
        "        self.waist = waist\n",
        "        \n",
        "    def calculate_discount(self, discount):\n",
        "        return self.price * (1 - discount / 2)\n",
        "    \n",
        "# TODO: Write a class called Blouse, that inherits from the Clothing class\n",
        "# and has the the following attributes and methods:\n",
        "#   attributes: color, size, style, price, country_of_origin\n",
        "#     where country_of_origin is a string that holds the name of a \n",
        "#     country\n",
        "#\n",
        "class Blouse(Clothing):\n",
        "\n",
        "    def __init__(self, color, size, style, price, country_of_origin):\n",
        "\n",
        "        Clothing.__init__(self, color, size, style, price)\n",
        "        self.country_of_origin = country_of_origin\n",
        "#   methods: triple_price, which has no inputs and returns three times\n",
        "#     the price of the blouse\n",
        "#\n",
        "#\n",
        "    def triple_price(self):\n",
        "        return self.price * 3\n",
        "\n",
        "# TODO: Add a method to the clothing class called calculate_shipping.\n",
        "#   The method has two inputs: weight and rate. Weight is a float\n",
        "#   representing the weight of the article of clothing. Rate is a float\n",
        "#   representing the shipping weight. The method returns weight * rate\n"
      ],
      "execution_count": 4,
      "outputs": []
    },
    {
      "cell_type": "code",
      "metadata": {
        "id": "5X4HGwCEWGEZ",
        "outputId": "0eeb9329-f0ce-4f20-99ee-93b2a4ba6111",
        "colab": {
          "base_uri": "https://localhost:8080/"
        }
      },
      "source": [
        "# Unit tests to check your solution\n",
        "\n",
        "import unittest\n",
        "\n",
        "class TestClothingClass(unittest.TestCase):\n",
        "    def setUp(self):\n",
        "        self.clothing = Clothing('orange', 'M', 'stripes', 35)\n",
        "        self.blouse = Blouse('blue', 'M', 'luxury', 40, 'Brazil')\n",
        "        self.pants = Pants('black', 32, 'baggy', 60, 30)\n",
        "        \n",
        "    def test_initialization(self): \n",
        "        self.assertEqual(self.clothing.color, 'orange', 'color should be orange')\n",
        "        self.assertEqual(self.clothing.price, 35, 'incorrect price')\n",
        "        \n",
        "        self.assertEqual(self.blouse.color, 'blue', 'color should be blue')\n",
        "        self.assertEqual(self.blouse.size, 'M', 'incorrect size')\n",
        "        self.assertEqual(self.blouse.style, 'luxury', 'incorrect style')\n",
        "        self.assertEqual(self.blouse.price, 40, 'incorrect price')\n",
        "        self.assertEqual(self.blouse.country_of_origin, 'Brazil', 'incorrect country of origin')\n",
        "\n",
        "    def test_calculateshipping(self):\n",
        "        self.assertEqual(self.clothing.calculate_shipping(.5, 3), .5 * 3,\\\n",
        "         'Clothing shipping calculation not as expected') \n",
        "\n",
        "        self.assertEqual(self.blouse.calculate_shipping(.5, 3), .5 * 3,\\\n",
        "         'Clothing shipping calculation not as expected') \n",
        "    \n",
        "tests = TestClothingClass()\n",
        "\n",
        "tests_loaded = unittest.TestLoader().loadTestsFromModule(tests)\n",
        "\n",
        "unittest.TextTestRunner().run(tests_loaded)"
      ],
      "execution_count": 5,
      "outputs": [
        {
          "output_type": "stream",
          "text": [
            "..\n",
            "----------------------------------------------------------------------\n",
            "Ran 2 tests in 0.006s\n",
            "\n",
            "OK\n"
          ],
          "name": "stderr"
        },
        {
          "output_type": "execute_result",
          "data": {
            "text/plain": [
              "<unittest.runner.TextTestResult run=2 errors=0 failures=0>"
            ]
          },
          "metadata": {
            "tags": []
          },
          "execution_count": 5
        }
      ]
    }
  ]
}